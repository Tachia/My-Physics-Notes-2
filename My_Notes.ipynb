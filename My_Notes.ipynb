{
  "nbformat": 4,
  "nbformat_minor": 0,
  "metadata": {
    "colab": {
      "provenance": [],
      "authorship_tag": "ABX9TyMX0cJJyAfFslS5WPG/ymwe",
      "include_colab_link": true
    },
    "kernelspec": {
      "name": "python3",
      "display_name": "Python 3"
    },
    "language_info": {
      "name": "python"
    }
  },
  "cells": [
    {
      "cell_type": "markdown",
      "metadata": {
        "id": "view-in-github",
        "colab_type": "text"
      },
      "source": [
        "<a href=\"https://colab.research.google.com/github/Tachia/My-Physics-Notes-2/blob/main/My_Notes.ipynb\" target=\"_parent\"><img src=\"https://colab.research.google.com/assets/colab-badge.svg\" alt=\"Open In Colab\"/></a>"
      ]
    },
    {
      "cell_type": "code",
      "execution_count": null,
      "metadata": {
        "id": "ME6CXzSK69La"
      },
      "outputs": [],
      "source": [
        "\\documentclass{article}\n",
        "\\usepackage[utf8]{inputenc}\n",
        "\n",
        "\\title{\\textbf{Physics Notes}}\n",
        "\\author{\\textbf{Mfeuter Joseph, Tachia}}\n",
        "\\date{September 2022}\n",
        "\\usepackage{latexsym}\n",
        "\\usepackage{amssymb}\n",
        "\\usepackage{amsmath}\n",
        "\\usepackage{amsfonts}\n",
        "\n",
        "\\begin{document}\n",
        "\\maketitle\n",
        "\\section{Corrections}\n",
        "The corrections for the previous task is solved below:\n",
        "\n",
        "$V_x(t), X(t)$, for $E(t) = A.e^{at}, A>0, a>0$\n",
        "\n",
        "$dV_x = \\frac{qE}{m}dt$, $E(t) = Ae^{at}$\n",
        "\n",
        "$\\int dV_x = \\frac{q}{m}\\int Edt = \\frac{q}{m}\\int Ae^{at}dt$\n",
        "\n",
        "$V_x(t) = \\frac{Aq}{m}.\\frac{e^{at}}{a} + c$\n",
        "\n",
        "At $V_x(t = 0) = V_{x0}$\n",
        "\n",
        "$V_{x0} = \\frac{Aq}{m}.\\frac{e^{a(0)}}{a} + c$\n",
        "\n",
        "$c = V_{x0} - \\frac{Aq}{ma}$\n",
        "\n",
        "$V_x(t) = \\frac{Aq}{ma}.e^{at} + V_{x0} - \\frac{Aq}{ma}$\n",
        "\n",
        "Or\n",
        "\n",
        "$V_x(t) = \\frac{Aq}{ma}.e^{at}(e^{at} - 1) + V_{x0}$\n",
        "\n",
        "\\end{document}"
      ]
    }
  ]
}